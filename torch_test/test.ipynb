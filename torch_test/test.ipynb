{
 "cells": [
  {
   "cell_type": "code",
   "execution_count": null,
   "metadata": {},
   "outputs": [],
   "source": [
    "from mc3d_trecsim import gmm\n",
    "import torch\n",
    "\n",
    "A = torch.randn(3, 4, 5)\n",
    "\n",
    "print(gmm.tensor(A))"
   ]
  }
 ],
 "metadata": {
  "kernelspec": {
   "display_name": "mc3d",
   "language": "python",
   "name": "python3"
  },
  "language_info": {
   "name": "python",
   "version": "3.12.4"
  }
 },
 "nbformat": 4,
 "nbformat_minor": 2
}
