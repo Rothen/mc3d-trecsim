{
 "cells": [
  {
   "cell_type": "code",
   "execution_count": 6,
   "metadata": {},
   "outputs": [
    {
     "name": "stdout",
     "output_type": "stream",
     "text": [
      "tensor([[[ 0.1221, -1.0560, -0.5020,  1.1114, -3.4796],\n",
      "         [ 0.7364, -0.5333,  1.7924, -0.9335,  0.2933],\n",
      "         [ 0.7361, -0.7160,  1.3635, -0.4538, -0.4683],\n",
      "         [ 1.0847, -1.5048,  1.3096, -0.9468,  0.9267]],\n",
      "\n",
      "        [[ 0.5660, -0.1601, -0.3559,  1.8003, -0.3150],\n",
      "         [ 0.3566, -0.7273,  1.6603,  0.8629, -0.1206],\n",
      "         [ 0.4249,  0.4684, -1.4583,  0.4216,  0.2878],\n",
      "         [-1.0934, -0.3034, -0.1292,  0.4850,  0.4113]],\n",
      "\n",
      "        [[ 1.0589,  0.9670,  2.7312,  0.1818,  1.9472],\n",
      "         [ 0.5652,  1.9477,  0.9613,  1.4542, -0.2582],\n",
      "         [ 0.6031, -1.5415, -2.2331, -2.2128, -0.1277],\n",
      "         [ 0.4579, -2.1632, -2.1209,  1.2213, -1.8697]]])\n"
     ]
    }
   ],
   "source": [
    "import torch\n",
    "from mc3d_trecsim import gmm\n",
    "import numpy as np\n",
    "\n",
    "A = torch.randn(3, 4, 5)\n",
    "\n",
    "print(gmm.tensor(A))"
   ]
  },
  {
   "cell_type": "code",
   "execution_count": null,
   "metadata": {},
   "outputs": [],
   "source": [
    "from scipy.interpolate import BSpline\n",
    "import numpy as np\n",
    "\n",
    "k = 3\n",
    "t = [1, 1, 1, 1, 2, 3, 3, 3, 3]\n",
    "x = np.linspace(1.0, 3.0, 10)\n",
    "\n",
    "design_matrix = BSpline.design_matrix(x, t, k).toarray()\n",
    "\n",
    "print(design_matrix)"
   ]
  },
  {
   "cell_type": "code",
   "execution_count": 60,
   "metadata": {},
   "outputs": [
    {
     "name": "stdout",
     "output_type": "stream",
     "text": [
      "mean: [0.5887 0.9628 0.0169]\n",
      "cov: [[0.6965 0.8137 0.5098]\n",
      " [0.334  0.7908 0.0972]\n",
      " [0.442  0.52   0.694 ]]\n",
      "p: [0.0909 0.2278 0.4103]\n",
      "pdf: 0.02299078054645225\n"
     ]
    }
   ],
   "source": [
    "import numpy as np\n",
    "from scipy.stats import multivariate_normal\n",
    "np.set_printoptions(precision=12)\n",
    "\n",
    "mean = np.random.uniform(0, 1, 3).round(4)\n",
    "cov = np.random.uniform(0, 1, 9).reshape(3, 3).round(4)\n",
    "p = np.random.uniform(0, 1, 3).round(4)\n",
    "\n",
    "print('mean:', mean)\n",
    "print('cov:', cov)\n",
    "print('p:', p)\n",
    "\n",
    "rv = multivariate_normal(mean, cov)\n",
    "print('pdf:', rv.pdf(p))"
   ]
  },
  {
   "cell_type": "code",
   "execution_count": null,
   "metadata": {},
   "outputs": [],
   "source": [
    "import numpy as np\n",
    "from scipy.stats import multivariate_normal\n",
    "np.set_printoptions(precision=12)\n",
    "\n",
    "mean = np.zeros((3, ))\n",
    "cov = np.eye(3)\n",
    "p = np.zeros((3, ))\n",
    "\n",
    "print('mean:', mean)\n",
    "print('cov:', cov)\n",
    "print('p:', p)\n",
    "\n",
    "rv = multivariate_normal(mean, cov)\n",
    "print('pdf:', rv.pdf(p))"
   ]
  },
  {
   "cell_type": "code",
   "execution_count": 66,
   "metadata": {},
   "outputs": [
    {
     "name": "stdout",
     "output_type": "stream",
     "text": [
      "p: tensor([[1617.856705450091795],\n",
      "        [-393.361910593998914]], dtype=torch.float64, grad_fn=<SliceBackward0>)\n",
      "P: tensor([[ 100.],\n",
      "        [-200.],\n",
      "        [ 150.]], dtype=torch.float64, requires_grad=True)\n",
      "P.grad(): tensor([[ 0.035474702899363],\n",
      "        [ 1.155629696601291],\n",
      "        [-3.771125916820447]], dtype=torch.float64)\n",
      "P: tensor([[ 100.],\n",
      "        [-200.],\n",
      "        [ 150.]], dtype=torch.float64, requires_grad=True)\n",
      "P.grad(): tensor([[0.689797347947211],\n",
      "        [3.458886656824250],\n",
      "        [2.719589723436067]], dtype=torch.float64)\n"
     ]
    },
    {
     "data": {
      "text/plain": [
       "tensor([[0.],\n",
       "        [0.],\n",
       "        [0.]], dtype=torch.float64)"
      ]
     },
     "execution_count": 66,
     "metadata": {},
     "output_type": "execute_result"
    }
   ],
   "source": [
    "A = torch.from_numpy(np.array([[1.1e+03, 0.0, 9.2e+02],\n",
    "                              [0.0, 1.1e+03, 5.8e+02],\n",
    "                              [0.0, 0.0, 1.0]]))\n",
    "\n",
    "P = torch.from_numpy(np.array([[4.8e-01, -4.5e-01, 7.4e-01, -3.8e+02],\n",
    "                              [4.7e-01, 8.5e-01, 2.0e-01, -1.2e+02],\n",
    "                              [-7.2e-01, 2.5e-01, 6.3e-01, 1.7e+02],\n",
    "                              [0.0, 0.0, 0.0, 1.0]]))\n",
    "\n",
    "RT = P[0:3,0:3].transpose(0, 1)\n",
    "t = P[0:3, 3].reshape(3, 1)\n",
    "torch.set_printoptions(precision=15)\n",
    "\n",
    "P = torch.from_numpy(np.array([100.0, -200.0, 150.0]).reshape((3, 1)))\n",
    "P.requires_grad_(True)\n",
    "\n",
    "PC = RT.mm(P - t)\n",
    "\n",
    "p = A.mm(PC / PC[2])[0:2, 0:1]\n",
    "\n",
    "print(\"p:\", p)\n",
    "\n",
    "p[0,0].backward(retain_graph=True)\n",
    "print(\"P:\", P)\n",
    "print(\"P.grad():\", P.grad)\n",
    "P.grad.zero_()\n",
    "\n",
    "p[1,0].backward()\n",
    "print(\"P:\", P)\n",
    "print(\"P.grad():\", P.grad)\n",
    "P.grad.zero_()"
   ]
  },
  {
   "cell_type": "code",
   "execution_count": 4,
   "metadata": {},
   "outputs": [
    {
     "name": "stdout",
     "output_type": "stream",
     "text": [
      "tensor([[ 1.9678, -0.4572, -0.6060, -1.0111],\n",
      "        [ 0.1902,  1.4594, -0.8258, -0.1915],\n",
      "        [ 2.3175, -1.0404, -0.2979,  0.9873],\n",
      "        [-1.6515,  0.2593, -0.0541,  0.1386]])\n"
     ]
    }
   ],
   "source": [
    "torch.s\n",
    "A = torch.randn(4, 4)\n",
    "\n",
    "print(A.index())"
   ]
  }
 ],
 "metadata": {
  "kernelspec": {
   "display_name": "mc3d",
   "language": "python",
   "name": "python3"
  },
  "language_info": {
   "codemirror_mode": {
    "name": "ipython",
    "version": 3
   },
   "file_extension": ".py",
   "mimetype": "text/x-python",
   "name": "python",
   "nbconvert_exporter": "python",
   "pygments_lexer": "ipython3",
   "version": "3.11.8"
  }
 },
 "nbformat": 4,
 "nbformat_minor": 2
}
