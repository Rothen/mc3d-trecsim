{
 "cells": [
  {
   "cell_type": "code",
   "execution_count": 4,
   "metadata": {},
   "outputs": [],
   "source": [
    "import torch\n",
    "from mc3d_trecsim import gmm\n",
    "import numpy as np"
   ]
  },
  {
   "cell_type": "code",
   "execution_count": null,
   "metadata": {},
   "outputs": [
    {
     "name": "stdout",
     "output_type": "stream",
     "text": [
      "5\n",
      "[(0, 1), (1, 2), (2, 3), (2, 4)]\n",
      "[0.45, 0.3, 0.27, 0.27]\n",
      "5\n"
     ]
    }
   ],
   "source": [
    "def some():\n",
    "    pose_parameter: gmm.PoseParameter = gmm.PoseParameter(\n",
    "        5, [(0, 1), (1, 2), (2, 3), (2, 4)], [0.45, 0.30, 0.27, 0.27])\n",
    "    print(pose_parameter.nb_keypoints)\n",
    "    print(pose_parameter.edges)\n",
    "    print(pose_parameter.average_limb_lengths)\n",
    "    return pose_parameter"
   ]
  }
 ],
 "metadata": {
  "kernelspec": {
   "display_name": "mc3d",
   "language": "python",
   "name": "python3"
  },
  "language_info": {
   "codemirror_mode": {
    "name": "ipython",
    "version": 3
   },
   "file_extension": ".py",
   "mimetype": "text/x-python",
   "name": "python",
   "nbconvert_exporter": "python",
   "pygments_lexer": "ipython3",
   "version": "3.12.4"
  }
 },
 "nbformat": 4,
 "nbformat_minor": 2
}
